{
 "cells": [
  {
   "cell_type": "code",
   "execution_count": null,
   "metadata": {},
   "outputs": [],
   "source": [
    "%load_ext autoreload\n",
    "%autoreload 2\n",
    "%matplotlib inline\n",
    "%cd .."
   ]
  },
  {
   "cell_type": "code",
   "execution_count": 2,
   "metadata": {},
   "outputs": [
    {
     "name": "stdout",
     "output_type": "stream",
     "text": [
      "Visualizer not available. Install body_visualizer to use it.\n"
     ]
    }
   ],
   "source": [
    "import importlib\n",
    "from omegaconf import OmegaConf\n",
    "import torch\n",
    "import numpy as np\n",
    "from hp.core.evaluator import PriorEvaluator, IKEvaluator\n",
    "from hp.core.cond_trainer import CondSO3PriorTrainer\n",
    "from hp.analysis.eval_ik_tools import compute_geod_and_mpjpe_for_based_on_k_samples"
   ]
  },
  {
   "cell_type": "code",
   "execution_count": 3,
   "metadata": {},
   "outputs": [],
   "source": [
    "path_pretrained_models = \"experiments/pretrained_models\""
   ]
  },
  {
   "cell_type": "markdown",
   "metadata": {},
   "source": [
    "Computed results might slightly deviate from the paper since we moved from `pytorch3d` to `roma` for rotation conversions, which results in a different set of randomly generated rotations."
   ]
  },
  {
   "cell_type": "markdown",
   "metadata": {},
   "source": [
    "# Prior"
   ]
  },
  {
   "cell_type": "code",
   "execution_count": 4,
   "metadata": {},
   "outputs": [
    {
     "name": "stdout",
     "output_type": "stream",
     "text": [
      "Only evaluation mode.\n"
     ]
    }
   ],
   "source": [
    "# Get the model\n",
    "exp_id = 900\n",
    "experiment_path = f\"{path_pretrained_models}/id_{exp_id:04}\"\n",
    "\n",
    "config = OmegaConf.load(f\"{experiment_path}/config.yaml\")\n",
    "\n",
    "config.device = \"cuda:0\"\n",
    "\n",
    "config.only_eval = True\n",
    "config.standard_mode = True\n",
    "config.condition = False\n",
    "\n",
    "module = importlib.import_module(\"hp.core.trainer\")\n",
    "class_ = getattr(module, config.trainer)\n",
    "trainer = class_(config)\n",
    "trainer.load_model(save_path=experiment_path)\n",
    "    "
   ]
  },
  {
   "cell_type": "code",
   "execution_count": 5,
   "metadata": {},
   "outputs": [],
   "source": [
    "# Sample from the prior\n",
    "with torch.no_grad():\n",
    "    samples = trainer.sample(100)"
   ]
  },
  {
   "cell_type": "code",
   "execution_count": 6,
   "metadata": {},
   "outputs": [
    {
     "name": "stdout",
     "output_type": "stream",
     "text": [
      "Average log-likelihood: 137.91\n",
      "{'eval_avg_ll': 137.91448465983072, 'eval_avg_ll_0': 137.9574737548828, 'avg_ll_1': 137.82850646972656, 'eval_avg_ll_std': 0.05361682168411739}\n"
     ]
    }
   ],
   "source": [
    "# Evaluate the model\n",
    "d = PriorEvaluator.eval(config, trainer, render_human=False, plot_samples=False, save_plot=False, compute_d_wasser=False)\n",
    "print(d)\n"
   ]
  },
  {
   "cell_type": "markdown",
   "metadata": {},
   "source": [
    "# IK"
   ]
  },
  {
   "cell_type": "code",
   "execution_count": null,
   "metadata": {},
   "outputs": [
    {
     "name": "stdout",
     "output_type": "stream",
     "text": [
      "Creating CondSO3PriorTrainer...\n",
      "Only evaluation mode.\n",
      "Using FlowND as pdf estimator with 2972.656k parameters.\n",
      "Conditioning mode: 3D\n",
      "Created CondSO3PriorTrainer.\n"
     ]
    }
   ],
   "source": [
    "# Get the model\n",
    "\n",
    "exp_id = 410\n",
    "experiment_path = f\"{path_pretrained_models}/id_{exp_id:04}\"\n",
    "\n",
    "config = OmegaConf.load(f\"{experiment_path}/config.yaml\")\n",
    "\n",
    "config.device = \"cuda:0\"\n",
    "config.batch_size = 2000\n",
    "config.num_eval_samples = 10_000\n",
    "\n",
    "np.random.seed(config.seed)\n",
    "torch.manual_seed(config.seed)\n",
    "\n",
    "config.standard_mode = True\n",
    "config.only_eval = True\n",
    "config.selected_joints = \"None\"\n",
    "config.conditioning.vary_mask_prob = False\n",
    "\n",
    "trainer = CondSO3PriorTrainer(config)\n",
    "trainer.load_model()\n",
    "\n",
    "seed = 10\n",
    "np.random.seed(seed); torch.manual_seed(seed);\n"
   ]
  },
  {
   "cell_type": "code",
   "execution_count": 8,
   "metadata": {},
   "outputs": [
    {
     "name": "stdout",
     "output_type": "stream",
     "text": [
      "Avg LL:  217.4688262939453\n",
      "==Evaluation with eval dataset==\n",
      "-> Eval with 5000 samples\n",
      " Sample Avg LL: 234.589\n",
      " Forward Avg LL: 217.919\n",
      " MPJPE: tensor([ 0.0000,  0.0000,  0.0000,  0.0000,  9.0000,  8.6000,  1.1000, 11.9000,\n",
      "         9.0000,  3.0000, 25.1000, 13.9000,  4.6000,  3.7000,  3.9000, 14.2000,\n",
      "         8.6000,  7.8000, 11.3000, 11.9000, 16.6000, 15.3000], device='cuda:0')\n",
      " Geodesic distance: tensor([0.0605, 0.0531, 0.0216, 0.0759, 0.0784, 0.0635, 0.2083, 0.1400, 0.0684,\n",
      "        0.1949, 0.0989, 0.1071, 0.2119, 0.1321, 0.1414, 0.2342, 0.2099, 0.4896,\n",
      "        0.5001])\n",
      " Mean MPJPE: 8.16mm\n",
      " Mean MPJPE 2D: 6.87mm\n",
      " Mean geodesic distance: 0.1626 rad = 9.3 deg\n"
     ]
    }
   ],
   "source": [
    "# Evaluate the model\n",
    "print(\"Avg LL: \", trainer.eval_estimator(num_samples=-1, complete=True))\n",
    "d = IKEvaluator.eval_with_dataset(trainer, n_samples=5_000, dataset = \"eval\")"
   ]
  },
  {
   "cell_type": "code",
   "execution_count": 9,
   "metadata": {},
   "outputs": [],
   "source": [
    "dataset = \"eval\"; n_samples = 5_000\n",
    "dataset = trainer.eval_dataset if dataset == \"eval\" else trainer.train_dataset\n",
    "idx = list(np.random.permutation(len(dataset))[:n_samples])\n",
    "dataset_samples = dataset[idx]\n",
    "theta_raw, p3d = dataset_samples[\"theta\"].to(trainer.config.device).reshape(n_samples,-1,3,3), dataset_samples[\"condition\"].to(trainer.config.device)"
   ]
  },
  {
   "cell_type": "code",
   "execution_count": 10,
   "metadata": {},
   "outputs": [
    {
     "name": "stdout",
     "output_type": "stream",
     "text": [
      "-- 1 samples --\n",
      "LL=221.38035583496094\n",
      "Mean MPJPE over samples=8.183 | Mean GEO=0.163 | Min MPJPE=8.183 | Mean MPJPE=8.183 | Min GEO=0.163 | Mean GEO=0.163 | P-MPJPE=8.632 | Mean P-MPJPE=8.632\n",
      "-- 10 samples --\n",
      "LL=261.8565368652344\n",
      "Mean MPJPE over samples=8.165 | Mean GEO=0.163 | Min MPJPE=2.669 | Mean MPJPE=5.470 | Min GEO=0.065 | Mean GEO=0.121 | P-MPJPE=8.443 | Mean P-MPJPE=5.621\n"
     ]
    }
   ],
   "source": [
    "# Evaluate the model with various samples\n",
    "trainer.config.conditioning.mask = False\n",
    "n_samples = theta_raw.shape[0]\n",
    "for k_samples in [1, 10]:\n",
    "    ths, p3d_raw, gs, mjps = compute_geod_and_mpjpe_for_based_on_k_samples(n_samples, k_samples, p3d, theta_raw, \n",
    "                                                                           trainer=trainer, selected_joints=trainer.selected_joints)"
   ]
  },
  {
   "cell_type": "markdown",
   "metadata": {},
   "source": [
    "# IK with occlusion"
   ]
  },
  {
   "cell_type": "code",
   "execution_count": null,
   "metadata": {},
   "outputs": [
    {
     "name": "stdout",
     "output_type": "stream",
     "text": [
      "Creating CondSO3PriorTrainer...\n",
      "Only evaluation mode.\n",
      "Using FlowND as pdf estimator with 1517.104k parameters.\n",
      "Conditioning mode: 3D\n",
      "Created CondSO3PriorTrainer.\n"
     ]
    }
   ],
   "source": [
    "exp_id = 384\n",
    "experiment_path = f\"{path_pretrained_models}/id_{exp_id:04}\"\n",
    "\n",
    "config = OmegaConf.load(f\"{experiment_path}/config.yaml\")\n",
    "\n",
    "config.device = \"cuda:0\"\n",
    "config.batch_size = 2000\n",
    "config.num_eval_samples = 5_000\n",
    "\n",
    "np.random.seed(config.seed)\n",
    "torch.manual_seed(config.seed)\n",
    "\n",
    "config.standard_mode = True \n",
    "config.only_eval = True\n",
    "config.selected_joints = \"None\"\n",
    "config.conditioning.vary_mask_prob = False\n",
    "\n",
    "trainer = CondSO3PriorTrainer(config)\n",
    "trainer.load_model()\n",
    "\n",
    "seed = 10\n",
    "np.random.seed(seed); torch.manual_seed(seed);\n"
   ]
  },
  {
   "cell_type": "code",
   "execution_count": 12,
   "metadata": {},
   "outputs": [
    {
     "name": "stdout",
     "output_type": "stream",
     "text": [
      "==Evaluation with eval dataset==\n",
      "-> Eval with 5000 samples\n",
      " Sample Avg LL: 184.215\n",
      " Forward Avg LL: 168.765\n",
      " MPJPE: tensor([  0.0000,   0.0000,   0.0000,   0.0000,  54.9000,  54.4000,   8.7000,\n",
      "         96.6000, 102.1000,  11.5000, 106.3000, 107.8000,  24.8000,  20.6000,\n",
      "         19.2000,  43.4000,  34.7000,  35.2000,  93.4000, 102.5000, 176.4000,\n",
      "        180.6000], device='cuda:0')\n",
      " Geodesic distance: tensor([0.1967, 0.1835, 0.0831, 0.3283, 0.3006, 0.1305, 0.2819, 0.2982, 0.0986,\n",
      "        0.2963, 0.2041, 0.2246, 0.3002, 0.3280, 0.3504, 0.5020, 0.5232, 0.5597,\n",
      "        0.5951])\n",
      " Mean MPJPE: 57.86mm\n",
      " Mean MPJPE 2D: 40.19mm\n",
      " Mean geodesic distance: 0.3045 rad = 17.4 deg\n",
      "{'mpjpe': 0.057862289249897, 'geod_dist': 0.30447348952293396, 'mpjpe_2d': 0.04018593952059746, 'p_mpjpe': 0.060957398265600204, 'll': 168.7648162841797}\n"
     ]
    }
   ],
   "source": [
    "trainer.config.conditioning.zero_mask_prob = 0.3\n",
    "trainer.config.conditioning.vary_mask_prob = True\n",
    "trainer.config.conditioning.mask_type = \"random\"\n",
    "d = IKEvaluator.eval_with_dataset(trainer, n_samples=5000, dataset = \"eval\")\n",
    "print(d)"
   ]
  },
  {
   "cell_type": "code",
   "execution_count": 13,
   "metadata": {},
   "outputs": [],
   "source": [
    "dataset = \"eval\"; n_samples = 5_000\n",
    "dataset = trainer.eval_dataset if dataset == \"eval\" else trainer.train_dataset\n",
    "idx = list(np.random.permutation(len(dataset))[:n_samples])\n",
    "dataset_samples = dataset[idx]\n",
    "theta_raw, p3d = dataset_samples[\"theta\"].to(trainer.config.device).reshape(n_samples,-1,3,3), dataset_samples[\"condition\"].to(trainer.config.device)"
   ]
  },
  {
   "cell_type": "code",
   "execution_count": 14,
   "metadata": {},
   "outputs": [
    {
     "name": "stdout",
     "output_type": "stream",
     "text": [
      "-- 1 samples --\n",
      "LL=80.73220825195312\n",
      "Mean MPJPE over samples=57.009 | Mean GEO=0.303 | Min MPJPE=57.009 | Mean MPJPE=57.009 | Min GEO=0.303 | Mean GEO=0.303 | P-MPJPE=60.187 | Mean P-MPJPE=60.187\n",
      "-- 10 samples --\n",
      "LL=87.29480743408203\n",
      "Mean MPJPE over samples=57.755 | Mean GEO=0.305 | Min MPJPE=7.610 | Mean MPJPE=39.500 | Min GEO=0.101 | Mean GEO=0.200 | P-MPJPE=59.900 | Mean P-MPJPE=41.359\n"
     ]
    }
   ],
   "source": [
    "# Randomly occluded\n",
    "trainer.config.conditioning.zero_mask_prob = 0.3\n",
    "trainer.config.conditioning.vary_mask_prob = True\n",
    "trainer.config.conditioning.mask_type = \"random\"\n",
    "n_samples = theta_raw.shape[0]\n",
    "for k_samples in [1, 10]:\n",
    "    ths, p3d_raw, gs, mjps = compute_geod_and_mpjpe_for_based_on_k_samples(n_samples, k_samples, p3d, theta_raw, \n",
    "                                                                           trainer=trainer, selected_joints=trainer.selected_joints)"
   ]
  },
  {
   "cell_type": "code",
   "execution_count": 15,
   "metadata": {},
   "outputs": [
    {
     "name": "stdout",
     "output_type": "stream",
     "text": [
      "=====================================\n",
      "Selection 0: Eval with 10000 samples for mask_joints: ['']\n",
      "== Evaluation 0 ==\n",
      "-- 1 samples --\n",
      "LL=197.48883056640625\n",
      "Mean MPJPE over samples=17.852 | Mean GEO=0.228 | Min MPJPE=17.852 | Mean MPJPE=17.852 | Min GEO=0.228 | Mean GEO=0.228 | P-MPJPE=18.617 | Mean P-MPJPE=18.617\n",
      "-- 10 samples --\n",
      "LL=191.54006958007812\n",
      "Mean MPJPE over samples=17.884 | Mean GEO=0.228 | Min MPJPE=6.284 | Mean MPJPE=11.913 | Min GEO=0.091 | Mean GEO=0.158 | P-MPJPE=18.551 | Mean P-MPJPE=12.294\n",
      "=====================================\n",
      "Selection 1: Eval with 10000 samples for mask_joints: ['LeftUpLeg', 'LeftLeg', 'LeftFoot']\n",
      "== Evaluation 0 ==\n",
      "-- 1 samples --\n",
      "LL=194.8851318359375\n",
      "Mean MPJPE over samples=20.710 | Mean GEO=0.239 | Min MPJPE=20.710 | Mean MPJPE=20.710 | Min GEO=0.239 | Mean GEO=0.239 | P-MPJPE=21.667 | Mean P-MPJPE=21.667\n",
      "-- 10 samples --\n",
      "LL=213.22666931152344\n",
      "Mean MPJPE over samples=20.835 | Mean GEO=0.239 | Min MPJPE=7.382 | Mean MPJPE=13.920 | Min GEO=0.097 | Mean GEO=0.166 | P-MPJPE=21.638 | Mean P-MPJPE=14.491\n",
      "=====================================\n",
      "Selection 2: Eval with 10000 samples for mask_joints: ['LeftHand', 'LeftArm', 'LeftElbow']\n",
      "== Evaluation 0 ==\n",
      "-- 1 samples --\n",
      "LL=203.98277282714844\n",
      "Mean MPJPE over samples=38.929 | Mean GEO=0.280 | Min MPJPE=38.929 | Mean MPJPE=38.929 | Min GEO=0.280 | Mean GEO=0.280 | P-MPJPE=50.670 | Mean P-MPJPE=50.670\n",
      "-- 10 samples --\n",
      "LL=221.09681701660156\n",
      "Mean MPJPE over samples=39.092 | Mean GEO=0.281 | Min MPJPE=14.341 | Mean MPJPE=30.201 | Min GEO=0.112 | Mean GEO=0.201 | P-MPJPE=50.332 | Mean P-MPJPE=40.617\n",
      "=====================================\n",
      "Selection 3: Eval with 10000 samples for mask_joints: ['RightShoulder', 'RightArm']\n",
      "== Evaluation 0 ==\n",
      "-- 1 samples --\n",
      "LL=197.38543701171875\n",
      "Mean MPJPE over samples=18.796 | Mean GEO=0.229 | Min MPJPE=18.796 | Mean MPJPE=18.796 | Min GEO=0.229 | Mean GEO=0.229 | P-MPJPE=19.396 | Mean P-MPJPE=19.396\n",
      "-- 10 samples --\n",
      "LL=206.8099822998047\n",
      "Mean MPJPE over samples=18.735 | Mean GEO=0.230 | Min MPJPE=6.649 | Mean MPJPE=12.674 | Min GEO=0.093 | Mean GEO=0.161 | P-MPJPE=19.168 | Mean P-MPJPE=12.947\n",
      "=====================================\n",
      "Selection 4: Eval with 10000 samples for mask_joints: ['LeftHand', 'RightHand', 'LeftFoot', 'RightFoot', 'Head']\n",
      "== Evaluation 0 ==\n",
      "-- 1 samples --\n",
      "LL=197.90432739257812\n",
      "Mean MPJPE over samples=36.543 | Mean GEO=0.290 | Min MPJPE=36.543 | Mean MPJPE=36.543 | Min GEO=0.290 | Mean GEO=0.290 | P-MPJPE=44.362 | Mean P-MPJPE=44.362\n",
      "-- 10 samples --\n",
      "LL=197.67152404785156\n",
      "Mean MPJPE over samples=36.358 | Mean GEO=0.290 | Min MPJPE=12.638 | Mean MPJPE=27.371 | Min GEO=0.112 | Mean GEO=0.208 | P-MPJPE=43.819 | Mean P-MPJPE=34.395\n"
     ]
    }
   ],
   "source": [
    "# Occluded joints\n",
    "from hp.analysis.eval_ik_tools import compute_geod_and_mpjpe_for_based_on_k_samples\n",
    "\n",
    "n_samples = 10_000\n",
    "trainer.config.conditioning.mask = True\n",
    "trainer.config.conditioning.vary_mask_prob = False\n",
    "trainer.config.conditioning.mask_type = \"selected_joints\"\n",
    "\n",
    "sel_joints_nomask = [\"\"]\n",
    "sel_joints_1 = [\"LeftUpLeg\", \"LeftLeg\", \"LeftFoot\"] #(1)\n",
    "sel_joints_2 = [\"LeftHand\", \"LeftArm\", \"LeftElbow\"] #(2)\n",
    "sel_joints_3 = [\"RightShoulder\", \"RightArm\"] # (3)\n",
    "sel_joints_4 = [\"LeftHand\", \"LeftArm\", \"LeftElbow\", \"RightToeBase\", \"RightFoot\"]\n",
    "sel_joints_smplik = [\"LeftHand\", \"RightHand\", \"LeftFoot\", \"RightFoot\", \"Head\"]\n",
    "\n",
    "b_compute_mesh_error = False\n",
    "\n",
    "\n",
    "for i_sel, sel_joints in enumerate([sel_joints_nomask, sel_joints_1, sel_joints_2, sel_joints_3, sel_joints_smplik]):\n",
    "    \n",
    "    print(f\"=====================================\")\n",
    "    print(f\"Selection {i_sel}: Eval with {n_samples} samples for mask_joints: {sel_joints}\")\n",
    "    \n",
    "    for i_eval in range(1):\n",
    "        print(f\"== Evaluation {i_eval} ==\")\n",
    "        idx = list(np.random.permutation(len(dataset))[:n_samples])\n",
    "        s = dataset[idx]\n",
    "        theta_raw, p3d = s[\"theta\"].to(trainer.config.device).reshape(n_samples,-1,3,3), s[\"condition\"].to(trainer.config.device)\n",
    "        trainer.config.conditioning.mask_joints = sel_joints\n",
    "        n_samples = theta_raw.shape[0]\n",
    "        for k_samples in [1,10]:\n",
    "            ths, p3d_raw, gs, mjps, g_mean, mjpe_mean, p_mjpe_mean = compute_geod_and_mpjpe_for_based_on_k_samples(n_samples, k_samples, p3d, theta_raw, trainer=trainer, return_eval_values=True)"
   ]
  },
  {
   "cell_type": "markdown",
   "metadata": {},
   "source": [
    "# 2D to 3D uplifting"
   ]
  },
  {
   "cell_type": "code",
   "execution_count": null,
   "metadata": {},
   "outputs": [
    {
     "name": "stdout",
     "output_type": "stream",
     "text": [
      "Creating CondSO3PriorTrainer...\n",
      "Only evaluation mode.\n",
      "Using FlowND as pdf estimator with 2971.248k parameters.\n",
      "Conditioning mode: 2D\n",
      "Created CondSO3PriorTrainer.\n"
     ]
    }
   ],
   "source": [
    "exp_id = 510\n",
    "experiment_path = f\"{path_pretrained_models}/id_{exp_id:04}\"\n",
    "\n",
    "\n",
    "config = OmegaConf.load(f\"{experiment_path}/config.yaml\")\n",
    "\n",
    "config.device = \"cuda:0\"\n",
    "config.batch_size = 2000\n",
    "config.num_eval_samples = 10_000\n",
    "\n",
    "\n",
    "np.random.seed(config.seed)\n",
    "torch.manual_seed(config.seed)\n",
    "\n",
    "\n",
    "config.standard_mode = True\n",
    "config.only_eval = True\n",
    "config.selected_joints = \"None\"\n",
    "config.conditioning.vary_mask_prob = False\n",
    "\n",
    "trainer = CondSO3PriorTrainer(config)\n",
    "trainer.load_model()\n",
    "\n",
    "seed = 10\n",
    "np.random.seed(seed); torch.manual_seed(seed);\n"
   ]
  },
  {
   "cell_type": "code",
   "execution_count": 17,
   "metadata": {},
   "outputs": [
    {
     "name": "stdout",
     "output_type": "stream",
     "text": [
      "Avg LL:  202.2058868408203\n",
      "==Evaluation with eval dataset==\n",
      "-> Eval with 5000 samples\n",
      " Sample Avg LL: 218.654\n",
      " Forward Avg LL: 202.595\n",
      " MPJPE: tensor([ 0.0000,  0.0000,  0.0000,  0.0000, 49.1000, 43.1000,  9.6000, 62.7000,\n",
      "        54.7000,  8.6000, 65.1000, 57.5000, 15.8000, 13.2000, 12.9000, 15.5000,\n",
      "        22.7000, 23.8000, 48.3000, 47.8000, 85.7000, 91.1000], device='cuda:0')\n",
      " Geodesic distance: tensor([0.1475, 0.1294, 0.0831, 0.1723, 0.1599, 0.1410, 0.1733, 0.1524, 0.0884,\n",
      "        0.1625, 0.1555, 0.1787, 0.2219, 0.1796, 0.1945, 0.3823, 0.3445, 0.5039,\n",
      "        0.5066])\n",
      " Mean MPJPE: 33.05mm\n",
      " Mean MPJPE 2D: 6.79mm\n",
      " Mean geodesic distance: 0.2146 rad = 12.3 deg\n",
      "{'mpjpe': 0.033050287514925, 'geod_dist': 0.21459785103797913, 'mpjpe_2d': 0.006794109009206295, 'p_mpjpe': 0.03089766576886177, 'll': 202.59474182128906}\n"
     ]
    }
   ],
   "source": [
    "# 1 sample\n",
    "print(\"Avg LL: \", trainer.eval_estimator(num_samples=-1, complete=True))\n",
    "d = IKEvaluator.eval_with_dataset(trainer, n_samples=5_000, dataset = \"eval\")\n",
    "print(d)"
   ]
  },
  {
   "cell_type": "code",
   "execution_count": 18,
   "metadata": {},
   "outputs": [],
   "source": [
    "dataset = \"eval\"; n_samples = 5_000\n",
    "dataset = trainer.eval_dataset if dataset == \"eval\" else trainer.train_dataset\n",
    "idx = list(np.random.permutation(len(dataset))[:n_samples])\n",
    "dataset_samples = dataset[idx]\n",
    "theta_raw, p3d = dataset_samples[\"theta\"].to(trainer.config.device).reshape(n_samples,-1,3,3), dataset_samples[\"condition\"].to(trainer.config.device)"
   ]
  },
  {
   "cell_type": "code",
   "execution_count": 19,
   "metadata": {},
   "outputs": [
    {
     "name": "stdout",
     "output_type": "stream",
     "text": [
      "-- 1 samples --\n",
      "LL=213.45082092285156\n",
      "Mean MPJPE over samples=6.718 | Mean GEO=0.214 | Min MPJPE=6.718 | Mean MPJPE=6.718 | Min GEO=0.214 | Mean GEO=0.214 | P-MPJPE=7.168 | Mean P-MPJPE=7.168\n",
      "-- 10 samples --\n",
      "LL=196.19915771484375\n",
      "Mean MPJPE over samples=6.747 | Mean GEO=0.215 | Min MPJPE=1.687 | Mean MPJPE=5.114 | Min GEO=0.085 | Mean GEO=0.161 | P-MPJPE=7.082 | Mean P-MPJPE=5.055\n"
     ]
    }
   ],
   "source": [
    "trainer.config.conditioning.mask = False\n",
    "n_samples = theta_raw.shape[0]\n",
    "for k_samples in [1, 10]:\n",
    "    ths, p3d_raw, gs, mjps = compute_geod_and_mpjpe_for_based_on_k_samples(n_samples, k_samples, p3d, theta_raw, \n",
    "                                                                           trainer=trainer, selected_joints=trainer.selected_joints)"
   ]
  }
 ],
 "metadata": {
  "kernelspec": {
   "display_name": "huproso_env_2",
   "language": "python",
   "name": "python3"
  },
  "language_info": {
   "codemirror_mode": {
    "name": "ipython",
    "version": 3
   },
   "file_extension": ".py",
   "mimetype": "text/x-python",
   "name": "python",
   "nbconvert_exporter": "python",
   "pygments_lexer": "ipython3",
   "version": "3.10.16"
  },
  "orig_nbformat": 4
 },
 "nbformat": 4,
 "nbformat_minor": 2
}
